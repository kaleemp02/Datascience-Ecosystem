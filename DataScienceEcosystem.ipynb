{
 "cells": [
  {
   "cell_type": "markdown",
   "id": "6740c747-d0e9-40e0-8c3f-1d2839418908",
   "metadata": {},
   "source": [
    "# Data Science Tools and Ecosystem"
   ]
  },
  {
   "cell_type": "markdown",
   "id": "5f416d67-26fa-4952-b4f4-267561fce18a",
   "metadata": {},
   "source": [
    "In this notebook, Data Science Tools and Ecosystem are summarized"
   ]
  },
  {
   "cell_type": "markdown",
   "id": "82c784ae-1838-4f58-af14-08f49639e01a",
   "metadata": {},
   "source": [
    "__Objectives:__\n",
    ">- Some of the popular languages of Data Science\n",
    ">- Some of commonly used libraries in Data Science.\n",
    ">- Tools of Data Science.\n",
    ">- Some examples of arithmetic evaluations."
   ]
  },
  {
   "cell_type": "markdown",
   "id": "f5931769-3deb-4b5b-8061-ac325f65ab22",
   "metadata": {},
   "source": [
    "Some of the popular languages that Data Scientists use are\n",
    "1. Python\n",
    "2. R\n",
    "3. Java\n",
    "4. Julia"
   ]
  },
  {
   "cell_type": "markdown",
   "id": "1b0b34cd-64e5-4cd2-be70-6c013cb661ee",
   "metadata": {},
   "source": [
    "Some of the commonly used libraries used by Data Scientists include:\n",
    "1. Pandas\n",
    "2. NumPy\n",
    "3. Matplotlib\n",
    "4. Seaborn\n",
    "5. Scikit-learn"
   ]
  },
  {
   "cell_type": "markdown",
   "id": "4279d705-1b13-4b88-842e-edb136b8235f",
   "metadata": {},
   "source": [
    "|Data Science Tools|\n",
    "|------------------|\n",
    "|Jupitar|\n",
    "|R-Studio|\n",
    "|Spyder|"
   ]
  },
  {
   "cell_type": "markdown",
   "id": "ce82a491-2ec6-42b2-9f70-4d332a8610e5",
   "metadata": {},
   "source": [
    "### Below are a few examples of evaluating arithmetic expressions in Python:"
   ]
  },
  {
   "cell_type": "markdown",
   "id": "b22d784f-10e9-476c-9975-751b8019e018",
   "metadata": {},
   "source": [
    "This a simple arithmetic expression to mutiply then add integers,"
   ]
  },
  {
   "cell_type": "code",
   "execution_count": 2,
   "id": "3c738761-028c-475e-bc35-2d28b0027370",
   "metadata": {},
   "outputs": [
    {
     "data": {
      "text/plain": [
       "17"
      ]
     },
     "execution_count": 2,
     "metadata": {},
     "output_type": "execute_result"
    }
   ],
   "source": [
    "(3*4)+5"
   ]
  },
  {
   "cell_type": "markdown",
   "id": "e374cfb1-a720-4fdf-b816-1460c9970679",
   "metadata": {},
   "source": [
    "This will convert 200 minutes to hours by diving by 60 Note:1min=1/60hrs"
   ]
  },
  {
   "cell_type": "code",
   "execution_count": 6,
   "id": "7708dafb-ccd6-4f82-8bb7-571ca8af83c1",
   "metadata": {},
   "outputs": [
    {
     "data": {
      "text/plain": [
       "3.3333333333333335"
      ]
     },
     "execution_count": 6,
     "metadata": {},
     "output_type": "execute_result"
    }
   ],
   "source": [
    "200 * 1/60"
   ]
  },
  {
   "cell_type": "markdown",
   "id": "82d64c93-1ecd-48f4-bba6-0d4f2877608a",
   "metadata": {},
   "source": [
    "## Author\n",
    "Kaleem Pasha"
   ]
  }
 ],
 "metadata": {
  "kernelspec": {
   "display_name": "Python 3 (ipykernel)",
   "language": "python",
   "name": "python3"
  },
  "language_info": {
   "codemirror_mode": {
    "name": "ipython",
    "version": 3
   },
   "file_extension": ".py",
   "mimetype": "text/x-python",
   "name": "python",
   "nbconvert_exporter": "python",
   "pygments_lexer": "ipython3",
   "version": "3.11.5"
  }
 },
 "nbformat": 4,
 "nbformat_minor": 5
}
